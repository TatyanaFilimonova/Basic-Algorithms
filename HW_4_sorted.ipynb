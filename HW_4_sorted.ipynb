{
 "cells": [
  {
   "cell_type": "code",
   "execution_count": 2,
   "id": "ab7b7bac-da69-4937-9519-325339cbfaae",
   "metadata": {
    "tags": []
   },
   "outputs": [],
   "source": [
    "import timeit\n",
    "import random\n",
    "\n",
    "# Генеруємо список чисел від 1 до n\n",
    "def generate_unique_numbers(n):\n",
    "    numbers = list(range(1, n + 1))\n",
    "    random.shuffle(numbers)\n",
    "    return numbers\n",
    "\n",
    "# Timsort сортування\n",
    "def timsort_sorted(array):\n",
    "    return sorted(array)\n",
    "\n",
    "def timsort_sort(array):\n",
    "    return array.sort()\n",
    "\n",
    "# Сортування вставками\n",
    "def insertion_sort(array):\n",
    "    for i in range(1, len(array)):\n",
    "        key = array[i]\n",
    "        j = i - 1\n",
    "        while j >= 0 and array[j] > key:\n",
    "            array[j + 1] = array[j]\n",
    "            j -= 1\n",
    "        array[j + 1] = key\n",
    "    return array\n",
    "\n",
    "# Сортування злиттям\n",
    "def merge_sort(array):\n",
    "    if len(array) <= 1:\n",
    "        return array\n",
    "\n",
    "    mid = len(array) // 2\n",
    "    left_half = array[:mid]\n",
    "    right_half = array[mid:]\n",
    "\n",
    "    return merge(merge_sort(left_half), merge_sort(right_half))\n",
    "\n",
    "def merge(left, right):\n",
    "    merged = []\n",
    "    left_index = 0\n",
    "    right_index = 0\n",
    "\n",
    "    while left_index < len(left) and right_index < len(right):\n",
    "        if left[left_index] <= right[right_index]:\n",
    "            merged.append(left[left_index])\n",
    "            left_index += 1\n",
    "        else:\n",
    "            merged.append(right[right_index])\n",
    "            right_index += 1\n",
    "\n",
    "    while left_index < len(left):\n",
    "        merged.append(left[left_index])\n",
    "        left_index += 1\n",
    "\n",
    "    while right_index < len(right):\n",
    "        merged.append(right[right_index])\n",
    "        right_index += 1\n",
    "\n",
    "    return merged\n",
    "\n",
    "\n"
   ]
  },
  {
   "cell_type": "code",
   "execution_count": 3,
   "id": "9916eb27-8e4a-4208-a7d4-4fc56e164e9b",
   "metadata": {
    "tags": []
   },
   "outputs": [
    {
     "name": "stdout",
     "output_type": "stream",
     "text": [
      "Number of items to measure: '1000'\n",
      "Execution time 'Timsort -> sorted': 0.0006958000000025777 seconds\n",
      "Execution time 'Timsort -> sort': 0.0006631999999981986 seconds\n",
      "Execution time 'merge': 0.004049499999997153 seconds\n",
      "Execution time'insertion': 0.05686250000000115 seconds\n",
      "Number of items to measure: '10000'\n",
      "Execution time 'Timsort -> sorted': 0.00640070000000037 seconds\n",
      "Execution time 'Timsort -> sort': 0.010219299999999265 seconds\n",
      "Execution time 'merge': 0.060503600000000546 seconds\n",
      "Execution time'insertion': 5.312480000000001 seconds\n"
     ]
    }
   ],
   "source": [
    "def sorting_measurement(len):\n",
    "    print(f\"Number of items to measure: '{len}'\")\n",
    "    # Execution time 'Timsort' -> sorted\n",
    "    execution_time = timeit.timeit(lambda: timsort_sorted(generate_unique_numbers(len)), number=1)\n",
    "    print(f\"Execution time 'Timsort -> sorted': {execution_time} seconds\")\n",
    "    # Execution time 'Timsort' -> sort\n",
    "    execution_time = timeit.timeit(lambda: timsort_sort(generate_unique_numbers(len)), number=1)\n",
    "    print(f\"Execution time 'Timsort -> sort': {execution_time} seconds\")\n",
    "    # Execution time 'merge'\n",
    "    execution_time = timeit.timeit(lambda: merge_sort(generate_unique_numbers(len)), number=1)\n",
    "    print(f\"Execution time 'merge': {execution_time} seconds\")\n",
    "    # Execution time 'insertion'\n",
    "    execution_time = timeit.timeit(lambda: insertion_sort(generate_unique_numbers(len)), number=1)\n",
    "    print(f\"Execution time'insertion': {execution_time} seconds\")\n",
    "\n",
    "\n",
    "# 1000 elements\n",
    "sorting_measurement(1000)\n",
    "\n",
    "# 10000 elements\n",
    "sorting_measurement(10000)\n",
    "\n"
   ]
  },
  {
   "cell_type": "code",
   "execution_count": null,
   "id": "bdd9094b-95fb-4bcc-a306-c3e0950a9c28",
   "metadata": {},
   "outputs": [],
   "source": []
  }
 ],
 "metadata": {
  "kernelspec": {
   "display_name": "Python 3 (ipykernel)",
   "language": "python",
   "name": "python3"
  },
  "language_info": {
   "codemirror_mode": {
    "name": "ipython",
    "version": 3
   },
   "file_extension": ".py",
   "mimetype": "text/x-python",
   "name": "python",
   "nbconvert_exporter": "python",
   "pygments_lexer": "ipython3",
   "version": "3.9.2"
  }
 },
 "nbformat": 4,
 "nbformat_minor": 5
}
