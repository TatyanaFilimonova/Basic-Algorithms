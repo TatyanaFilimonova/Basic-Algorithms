{
 "cells": [
  {
   "cell_type": "code",
   "execution_count": 1,
   "id": "c1681ba7-33fc-4d1e-9cd8-ed419227c7ba",
   "metadata": {
    "tags": []
   },
   "outputs": [
    {
     "name": "stdout",
     "output_type": "stream",
     "text": [
      "(3, 3.8)\n",
      "(3, 4.6)\n",
      "(3, 5.9)\n"
     ]
    }
   ],
   "source": [
    "#Дз_5\n",
    "#Завдання 2\n",
    "\n",
    "def binary_search_with_upper_bound(arr, target):\n",
    "    low, high = 0, len(arr) - 1\n",
    "    iterations = 0\n",
    "    upper_bound = arr[-1]  # Початкове значення - максимальний елемент масиву\n",
    "\n",
    "    while low <= high:\n",
    "        iterations += 1\n",
    "        mid = (low + high) // 2\n",
    "\n",
    "        if arr[mid] < target:\n",
    "            low = mid + 1\n",
    "        else:\n",
    "            upper_bound = arr[mid]\n",
    "            high = mid - 1\n",
    "\n",
    "    return iterations, upper_bound\n",
    "\n",
    "\n",
    "if __name__ == '__main__':\n",
    "    # Тестування функції\n",
    "    arr = [1.1, 1.3, 2.5, 3.8, 4.6, 5.9]\n",
    "    print(binary_search_with_upper_bound(arr, 3.5))  # Виведе: (кількість ітерацій, верхню межу)\n",
    "    print(binary_search_with_upper_bound(arr, 4))  # Виведе: (кількість ітерацій, верхню межу)\n",
    "    print(binary_search_with_upper_bound(arr, 6.0))  # Виведе: (кількість ітерацій, максимальний елемент)"
   ]
  },
  {
   "cell_type": "code",
   "execution_count": 2,
   "id": "a9406c03-5c67-4d03-9fcd-679828bb3220",
   "metadata": {
    "tags": []
   },
   "outputs": [
    {
     "name": "stdout",
     "output_type": "stream",
     "text": [
      "50\n",
      "20\n",
      "30\n",
      "None\n",
      "[[], [], [], [], [['orange', 20], ['banana', 30]]]\n"
     ]
    }
   ],
   "source": [
    "#Завдання 1\n",
    "\n",
    "class HashTable:\n",
    "    def __init__(self, size):\n",
    "        self.size = size\n",
    "        self.table = [[] for _ in range(self.size)]\n",
    "\n",
    "    def hash_function(self, key):\n",
    "        return hash(key) % self.size\n",
    "\n",
    "    def insert(self, key, value):\n",
    "        key_hash = self.hash_function(key)\n",
    "        key_value = [key, value]\n",
    "\n",
    "        if self.table[key_hash] is None:\n",
    "            self.table[key_hash] = list([key_value])\n",
    "            return True\n",
    "        else:\n",
    "            for pair in self.table[key_hash]:\n",
    "                if pair[0] == key:\n",
    "                    pair[1] = value\n",
    "                    return True\n",
    "            self.table[key_hash].append(key_value)\n",
    "            return True\n",
    "\n",
    "    def get(self, key):\n",
    "        key_hash = self.hash_function(key)\n",
    "        if self.table[key_hash] is not None:\n",
    "            for pair in self.table[key_hash]:\n",
    "                if pair[0] == key:\n",
    "                    return pair[1]\n",
    "        return None\n",
    "\n",
    "    def delete(self, key):\n",
    "        key_hash = self.hash_function(key)\n",
    "        if self.table[key_hash] is not None:\n",
    "            for i in range(len(self.table[key_hash])):\n",
    "                if self.table[key_hash][i][0] == key:\n",
    "                    self.table[key_hash].pop(i)\n",
    "                    return True\n",
    "        return False\n",
    "\n",
    "\n",
    "if __name__ == '__main__':\n",
    "    # Тестуємо нашу хеш-таблицю:\n",
    "    H = HashTable(5)\n",
    "    H.insert(\"apple\", 10)\n",
    "    H.insert(\"orange\", 20)\n",
    "    H.insert(\"banana\", 30)\n",
    "    H.insert(\"apple\", 50)\n",
    "\n",
    "    print(H.get(\"apple\"))  # Виведе: 10\n",
    "    print(H.get(\"orange\"))  # Виведе: 20\n",
    "    print(H.get(\"banana\"))  # Виведе: 30\n",
    "\n",
    "    # Видаляємо один елемент і перевіряємо його відсутність\n",
    "    H.delete(\"apple\")\n",
    "    print(H.get(\"apple\"))  # Виведе: None\n",
    "    print(H.table)"
   ]
  },
  {
   "cell_type": "code",
   "execution_count": null,
   "id": "925e2e44-ecbe-41b4-947b-6ab61cf4bb7d",
   "metadata": {},
   "outputs": [],
   "source": []
  }
 ],
 "metadata": {
  "kernelspec": {
   "display_name": "Python 3 (ipykernel)",
   "language": "python",
   "name": "python3"
  },
  "language_info": {
   "codemirror_mode": {
    "name": "ipython",
    "version": 3
   },
   "file_extension": ".py",
   "mimetype": "text/x-python",
   "name": "python",
   "nbconvert_exporter": "python",
   "pygments_lexer": "ipython3",
   "version": "3.9.2"
  }
 },
 "nbformat": 4,
 "nbformat_minor": 5
}
