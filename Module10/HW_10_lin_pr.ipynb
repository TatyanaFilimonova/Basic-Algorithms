{
 "cells": [
  {
   "cell_type": "code",
   "execution_count": 3,
   "id": "ecebc7bc-ac52-4510-adf4-26f531248133",
   "metadata": {
    "tags": []
   },
   "outputs": [
    {
     "name": "stdout",
     "output_type": "stream",
     "text": [
      "Optimal quantity of Lemonade: 30\n",
      "Optimal quantity of Fruit Juice: 20\n",
      "Maximum production: 50\n"
     ]
    }
   ],
   "source": [
    "#Завдання 1\n",
    "from pulp import LpProblem, LpMaximize, LpVariable\n",
    "\n",
    "# Створюємо модель оптимізації\n",
    "model = LpProblem(name=\"Production_Optimization\", sense=LpMaximize)\n",
    "\n",
    "# Оголошуємо змінні рішення - кількість одиниць \"Лимонаду\" та \"Фруктового соку\"\n",
    "x1 = LpVariable(name=\"Lemonade\", lowBound=0, cat=\"Integer\")\n",
    "x2 = LpVariable(name=\"FruitJuice\", lowBound=0, cat=\"Integer\")\n",
    "\n",
    "# Цільова функція для максимізації виробництва\n",
    "model += x1 + x2\n",
    "\n",
    "# Додаємо обмеження ресурсів\n",
    "model += 2 * x1 + x2 <= 100   # Вода\n",
    "model += x1 <= 50             # Цукор\n",
    "model += x1 <= 30             # Лимонний сік\n",
    "model += 2 * x2  <= 40    # Фруктове пюре\n",
    "\n",
    "# Розв'язуємо задачу\n",
    "model.solve()\n",
    "\n",
    "# Виводимо результати\n",
    "print(f\"Optimal quantity of Lemonade: {int(x1.value())}\")\n",
    "print(f\"Optimal quantity of Fruit Juice: {int(x2.value())}\")\n",
    "print(f\"Maximum production: {int(model.objective.value())}\")"
   ]
  },
  {
   "cell_type": "code",
   "execution_count": 2,
   "id": "18b2208f-a538-4f8d-a93a-c6c9e944dd7d",
   "metadata": {
    "tags": []
   },
   "outputs": [
    {
     "data": {
      "image/png": "[encoded data removed]",
      "text/plain": [
       "<Figure size 432x288 with 1 Axes>"
      ]
     },
     "metadata": {
      "needs_background": "light"
     },
     "output_type": "display_data"
    },
    {
     "name": "stdout",
     "output_type": "stream",
     "text": [
      "Інтеграл:  2.666666666666667\n",
      "Обчислення інтеграла за допмогою метод Монте-Карло: \n",
      "Кількість точок: 10000 , інтеграл: 2.6968\n",
      "Кількість точок: 20000 , інтеграл: 2.6788\n",
      "Кількість точок: 50000 , інтеграл: 2.68128\n",
      "Кількість точок: 10 , інтеграл: 3.2\n",
      "Кількість точок: 100 , інтеграл: 2.64\n",
      "Кількість точок: 1000 , інтеграл: 2.648\n"
     ]
    }
   ],
   "source": [
    "#Завдання 2\n",
    "import matplotlib.pyplot as plt\n",
    "import scipy.integrate as spi\n",
    "import numpy as np\n",
    "import random\n",
    "\n",
    "\n",
    "# Визначення функції та межі інтегрування\n",
    "def f(x):\n",
    "    return x**2\n",
    "\n",
    "\n",
    "a = 0  # Нижня межа\n",
    "b = 2  # Верхня межа\n",
    "\n",
    "# Створення діапазону значень для x\n",
    "x = np.linspace(-0.5, 2.5, 400)\n",
    "y = f(x)\n",
    "\n",
    "# Створення графіка\n",
    "fig, ax = plt.subplots()\n",
    "\n",
    "# Малювання функції\n",
    "ax.plot(x, y, \"r\", linewidth=2)\n",
    "\n",
    "# Заповнення області під кривою\n",
    "ix = np.linspace(a, b)\n",
    "iy = f(ix)\n",
    "ax.fill_between(ix, iy, color=\"gray\", alpha=0.3)\n",
    "\n",
    "# Налаштування графіка\n",
    "ax.set_xlim([x[0], x[-1]])\n",
    "ax.set_ylim([0, max(y) + 0.1])\n",
    "ax.set_xlabel(\"x\")\n",
    "ax.set_ylabel(\"f(x)\")\n",
    "\n",
    "# Додавання меж інтегрування та назви графіка\n",
    "ax.axvline(x=a, color=\"gray\", linestyle=\"--\")\n",
    "ax.axvline(x=b, color=\"gray\", linestyle=\"--\")\n",
    "ax.set_title(\"Графік інтегрування f(x) = x^2 від \" + str(a) + \" до \" + str(b))\n",
    "plt.grid()\n",
    "plt.show()\n",
    "\n",
    "\n",
    "# Обчислення значення інтеграла функції за допомогою методу Монте-Карло\n",
    "def monte_carlo_integral_calculation(num_points):\n",
    "    random_x = np.random.uniform(a, b, num_points)\n",
    "    random_y = np.random.uniform(0, f(b), num_points)\n",
    "\n",
    "    # Обчислення кількості точок, які потрапили під криву\n",
    "    points_under_curve = sum(random_y <= f(random_x))\n",
    "\n",
    "    # Обчислення відсотка площі під кривою\n",
    "    area_ratio = points_under_curve / num_points\n",
    "\n",
    "    # Обчислення площі області\n",
    "    total_area = (b - a) * f(b)\n",
    "\n",
    "    # Обчислення значення інтегралу\n",
    "    integral_value = total_area * area_ratio\n",
    "\n",
    "    return integral_value\n",
    "\n",
    "\n",
    "# Перевірка\n",
    "# Обчислення інтеграла за допмогою quad()\n",
    "result, error = spi.quad(f, a, b)\n",
    "print(\"Інтеграл: \", result)\n",
    "\n",
    "# Обчислення інтеграла за допомогою методу Монте-Карло\n",
    "num_points = [10000, 20000, 50000, 10, 100, 1000]\n",
    "\n",
    "print(\"Обчислення інтеграла за допмогою метод Монте-Карло: \")\n",
    "for points in num_points:\n",
    "    print(\n",
    "        f\"Кількість точок: {points} , інтеграл: {monte_carlo_integral_calculation(points)}\"\n",
    "    )"
   ]
  },
  {
   "cell_type": "code",
   "execution_count": null,
   "id": "b7ea698e-4d00-444a-9f8a-58da8d2374b9",
   "metadata": {},
   "outputs": [],
   "source": []
  },
  {
   "cell_type": "code",
   "execution_count": null,
   "id": "b1a8b094-3f7e-4443-b902-49086c69707a",
   "metadata": {},
   "outputs": [],
   "source": []
  }
 ],
 "metadata": {
  "kernelspec": {
   "display_name": "Python 3 (ipykernel)",
   "language": "python",
   "name": "python3"
  },
  "language_info": {
   "codemirror_mode": {
    "name": "ipython",
    "version": 3
   },
   "file_extension": ".py",
   "mimetype": "text/x-python",
   "name": "python",
   "nbconvert_exporter": "python",
   "pygments_lexer": "ipython3",
   "version": "3.9.2"
  }
 },
 "nbformat": 4,
 "nbformat_minor": 5
}
